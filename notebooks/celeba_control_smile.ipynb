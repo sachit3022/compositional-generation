{
 "cells": [
  {
   "cell_type": "markdown",
   "metadata": {},
   "source": [
    "### Inference: How to generate novel attribute compositions, ones the model is trained\n",
    "For training documentation follow README.md"
   ]
  },
  {
   "cell_type": "code",
   "execution_count": 1,
   "metadata": {},
   "outputs": [
    {
     "name": "stdout",
     "output_type": "stream",
     "text": [
      "Using gpu\n"
     ]
    }
   ],
   "source": [
    "#typically for load model from the config but its okay we will define the config as a dict\n",
    "import sys\n",
    "import os\n",
    "parent_dir = os.path.dirname(os.path.abspath(''))\n",
    "sys.path.append(parent_dir)\n",
    "\n",
    "import torch\n",
    "import pytorch_lightning as pl\n",
    "from torch import nn, Tensor\n",
    "from torch.utils.data import DataLoader, Dataset\n",
    "\n",
    "import matplotlib.pyplot as plt\n",
    "from matplotlib import cm\n",
    "from typing import Optional\n",
    "import functools\n",
    "import seaborn as sns\n",
    "import math\n",
    "import hydra\n",
    "from diffusers import DDPMScheduler,AutoencoderKL,UNet2DModel\n",
    "\n",
    "from copy import deepcopy\n",
    "\n",
    "from coind.models.conditional_unet import ClassConditionalUnet\n",
    "from coind.models.lace_unet import ComposeModels\n",
    "from coind.score.sampling import ANDquery,CFGquery, LaceANDquery, LaceCFGquery\n",
    "\n",
    "from coind.score.pipelines import CondDDIMPipeline\n",
    "from utils import save_images,make_grid,set_seed\n",
    "\n",
    "\n",
    "if torch.cuda.is_available():\n",
    "    os.environ['CUDA_VISIBLE_DEVICES'] = '0'  # Use GPU 1\n",
    "    device = 'cuda:0'\n",
    "    print('Using gpu')\n",
    "else:\n",
    "    device = 'cpu'\n",
    "    print('Using cpu.')"
   ]
  },
  {
   "cell_type": "code",
   "execution_count": 2,
   "metadata": {},
   "outputs": [],
   "source": [
    "scheduler_config = {\n",
    "    '_target_': DDPMScheduler,\n",
    "    'num_train_timesteps': 1000,\n",
    "    'clip_sample': True,\n",
    "    'prediction_type': 'epsilon',\n",
    "    'beta_schedule': 'squaredcos_cap_v2',\n",
    "}\n",
    "checkpoints = {\n",
    "    \"vanilla\": \"/research/hal-gaudisac/Diffusion/compositional-generation/checkpoints/celeba/celeba_partial_diffusion.ckpt\",\n",
    "    \"coind\": \"/research/hal-gaudisac/Diffusion/compositional-generation/checkpoints/celeba/celeba_partial_coind.ckpt\",\n",
    "    \"lace\":[\n",
    "        \"/research/hal-gaudisac/Diffusion/compositional-generation/checkpoints/celeba/celeba_partial_lace_gender.ckpt\",\n",
    "        \"/research/hal-gaudisac/Diffusion/compositional-generation/checkpoints/celeba/celeba_partial_lace_smile.ckpt\"\n",
    "    ]\n",
    "}\n",
    "scheduler = hydra.utils.instantiate(scheduler_config)"
   ]
  },
  {
   "cell_type": "code",
   "execution_count": 3,
   "metadata": {},
   "outputs": [
    {
     "name": "stderr",
     "output_type": "stream",
     "text": [
      "/tmp/ipykernel_3036608/1155794109.py:18: FutureWarning: You are using `torch.load` with `weights_only=False` (the current default value), which uses the default pickle module implicitly. It is possible to construct malicious pickle data which will execute arbitrary code during unpickling (See https://github.com/pytorch/pytorch/blob/main/SECURITY.md#untrusted-models for more details). In a future release, the default value for `weights_only` will be flipped to `True`. This limits the functions that could be executed during unpickling. Arbitrary objects will no longer be allowed to be loaded via this mode unless they are explicitly allowlisted by the user via `torch.serialization.add_safe_globals`. We recommend you start setting `weights_only=True` for any use case where you don't have full control of the loaded file. Please open an issue on GitHub for any issues related to this experimental feature.\n",
      "  model_state_dict = {k.replace('model.',''): v for k, v in torch.load(path)['state_dict'].items() if k.startswith('model.')}\n"
     ]
    }
   ],
   "source": [
    "#load model\n",
    "checkpoint_path = checkpoints['lace']\n",
    "\n",
    "if isinstance(checkpoint_path, list):\n",
    "    model_config = {\n",
    "        '_target_': ClassConditionalUnet,\n",
    "        'num_class_per_label': [2],\n",
    "        'sample_size': 16,\n",
    "        'in_channels': 16,\n",
    "        'out_channels': 16, \n",
    "        'center_input_sample': False,\n",
    "        'time_embedding_type': 'positional'\n",
    "    }\n",
    "    models =[]\n",
    "    model = hydra.utils.instantiate(model_config)\n",
    "    for path in checkpoint_path:\n",
    "        i_model = deepcopy(model)\n",
    "        model_state_dict = {k.replace('model.',''): v for k, v in torch.load(path)['state_dict'].items() if k.startswith('model.')}\n",
    "        i_model.load_state_dict(model_state_dict, strict=False)\n",
    "        models.append(i_model)\n",
    "    model = ComposeModels(models)\n",
    "else:\n",
    "    model_config = {\n",
    "        '_target_': ClassConditionalUnet,\n",
    "        'num_class_per_label': [2,2],\n",
    "        'sample_size': 16,\n",
    "        'in_channels': 16,\n",
    "        'out_channels': 16, \n",
    "        'center_input_sample': False,\n",
    "        'time_embedding_type': 'positional'\n",
    "    }\n",
    "    model = hydra.utils.instantiate(model_config)\n",
    "    model_state_dict = {k.replace('model.',''): v for k, v in torch.load(checkpoint_path)['state_dict'].items() if k.startswith('model.')}\n",
    "    model.load_state_dict(model_state_dict, strict=False)\n",
    "\n",
    "#load vae\n",
    "vae = AutoencoderKL.from_pretrained('black-forest-labs/FLUX.1-schnell', subfolder='vae', cache_dir='../checkpoints')\n",
    "vae = vae.to(device)"
   ]
  },
  {
   "cell_type": "code",
   "execution_count": 4,
   "metadata": {},
   "outputs": [],
   "source": [
    "model.eval()\n",
    "and_model = LaceANDquery(model).to(device)\n",
    "#cfg_model = CFGquery(model).to(device)\n",
    "pipeline = CondDDIMPipeline(and_model,scheduler=scheduler,vae = vae)"
   ]
  },
  {
   "cell_type": "code",
   "execution_count": 5,
   "metadata": {},
   "outputs": [
    {
     "data": {
      "application/vnd.jupyter.widget-view+json": {
       "model_id": "b2ef1e98e9f54f218c75808b001e8bf6",
       "version_major": 2,
       "version_minor": 0
      },
      "text/plain": [
       "Dropdown(description='Gender:', options=('Male', 'Female'), value='Male')"
      ]
     },
     "metadata": {},
     "output_type": "display_data"
    },
    {
     "data": {
      "application/vnd.jupyter.widget-view+json": {
       "model_id": "e5bfa956f1054808ad144886a6e92dee",
       "version_major": 2,
       "version_minor": 0
      },
      "text/plain": [
       "Dropdown(description='Smile:', options=('Smile', 'Non-smile'), value='Smile')"
      ]
     },
     "metadata": {},
     "output_type": "display_data"
    },
    {
     "data": {
      "application/vnd.jupyter.widget-view+json": {
       "model_id": "52335e69d1d0486e9ac8b94369768170",
       "version_major": 2,
       "version_minor": 0
      },
      "text/plain": [
       "IntSlider(value=7, description='Gender Control:', max=21, min=1)"
      ]
     },
     "metadata": {},
     "output_type": "display_data"
    },
    {
     "data": {
      "application/vnd.jupyter.widget-view+json": {
       "model_id": "b69deea131574c3fa016d9bb6a9cf7fa",
       "version_major": 2,
       "version_minor": 0
      },
      "text/plain": [
       "IntSlider(value=7, description='Smile Control:', max=21, min=1)"
      ]
     },
     "metadata": {},
     "output_type": "display_data"
    },
    {
     "data": {
      "application/vnd.jupyter.widget-view+json": {
       "model_id": "79fcd01dc7bd444097ddb48e5d12dbe6",
       "version_major": 2,
       "version_minor": 0
      },
      "text/plain": [
       "Button(description='Run', style=ButtonStyle())"
      ]
     },
     "metadata": {},
     "output_type": "display_data"
    },
    {
     "data": {
      "application/vnd.jupyter.widget-view+json": {
       "model_id": "b51886205fdd4421b56728700a2dd78d",
       "version_major": 2,
       "version_minor": 0
      },
      "text/plain": [
       "Output()"
      ]
     },
     "metadata": {},
     "output_type": "display_data"
    }
   ],
   "source": [
    "import ipywidgets as widgets\n",
    "from IPython.display import display\n",
    "gender_dropdown = widgets.Dropdown(options=[ 'Male','Female'], description='Gender:')\n",
    "smile_dropdown = widgets.Dropdown(options=['Smile', 'Non-smile'], description='Smile:')\n",
    "\n",
    "gender_slider = widgets.IntSlider(description='Gender Control:', min=1, max=21, value=7.0)\n",
    "smile_slider = widgets.IntSlider(description='Smile Control:', min=1, max=21, value=7.0)\n",
    "seed = 42\n",
    "\n",
    "\n",
    "#number of images\n",
    "\n",
    "button = widgets.Button(description=\"Run\")\n",
    "output = widgets.Output()\n",
    "\n",
    "display(gender_dropdown, smile_dropdown,gender_slider,smile_slider,button, output)#\n",
    "\n",
    "def on_button_click(b):\n",
    "    with output:\n",
    "        output.clear_output()\n",
    "        num_of_images = 36\n",
    "        gender = int(gender_dropdown.value == 'Male')\n",
    "        smile = int(smile_dropdown.value ==\"Smile\")\n",
    "        query =  2*torch.tensor([[gender, smile]]*num_of_images).to(device) -1.0\n",
    "        guidance_scale = [gender_slider.value,smile_slider.value]\n",
    "        null_token = torch.zeros_like(query).to(device)\n",
    "        num_inference_steps = 100\n",
    "        set_seed(int(seed))\n",
    "        generated_images = pipeline(batch_size=query.size(0), \n",
    "                        num_inference_steps= num_inference_steps,\n",
    "                        return_dict= True,\n",
    "                        use_clipped_model_output = True,\n",
    "                        query = query,\n",
    "                        guidance_scale=guidance_scale,\n",
    "                        null_token=null_token)[0]\n",
    "        generated_images = generated_images.cpu().detach()* 0.5 + 0.5 #unnormalize\n",
    "        fig,axis = plt.subplots(1,1,figsize=(10,10))\n",
    "        axis.imshow(make_grid(generated_images))\n",
    "        plt.show()\n",
    "\n",
    "        \n",
    "button.on_click(on_button_click)"
   ]
  },
  {
   "cell_type": "code",
   "execution_count": null,
   "metadata": {},
   "outputs": [],
   "source": []
  },
  {
   "cell_type": "code",
   "execution_count": null,
   "metadata": {},
   "outputs": [],
   "source": []
  }
 ],
 "metadata": {
  "kernelspec": {
   "display_name": "compositional-generation",
   "language": "python",
   "name": "python3"
  },
  "language_info": {
   "codemirror_mode": {
    "name": "ipython",
    "version": 3
   },
   "file_extension": ".py",
   "mimetype": "text/x-python",
   "name": "python",
   "nbconvert_exporter": "python",
   "pygments_lexer": "ipython3",
   "version": "3.12.8"
  }
 },
 "nbformat": 4,
 "nbformat_minor": 2
}
