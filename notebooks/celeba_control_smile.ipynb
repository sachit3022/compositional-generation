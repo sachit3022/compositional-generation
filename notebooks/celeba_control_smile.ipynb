{
 "cells": [
  {
   "cell_type": "markdown",
   "metadata": {},
   "source": [
    "### Inference: How to generate novel attribute compositions, ones the model is trained\n",
    "For training documentation follow README.md"
   ]
  },
  {
   "cell_type": "code",
   "execution_count": 2,
   "metadata": {},
   "outputs": [
    {
     "name": "stdout",
     "output_type": "stream",
     "text": [
      "Using gpu\n"
     ]
    }
   ],
   "source": [
    "#typically for load model from the config but its okay we will define the config as a dict\n",
    "import sys\n",
    "import os\n",
    "parent_dir = os.path.dirname(os.path.abspath(''))\n",
    "sys.path.append(parent_dir)\n",
    "\n",
    "import torch\n",
    "import pytorch_lightning as pl\n",
    "from torch import nn, Tensor\n",
    "from torch.utils.data import DataLoader, Dataset\n",
    "\n",
    "import matplotlib.pyplot as plt\n",
    "from matplotlib import cm\n",
    "from typing import Optional\n",
    "import functools\n",
    "import seaborn as sns\n",
    "import math\n",
    "import hydra\n",
    "from diffusers import DDPMScheduler,AutoencoderKL,UNet2DModel\n",
    "\n",
    "from coind.models.conditional_unet import ClassConditionalUnet\n",
    "from coind.score.pipelines import CondDDIMPipeline\n",
    "from utils import save_images,make_grid,set_seed\n",
    "\n",
    "\n",
    "if torch.cuda.is_available():\n",
    "    os.environ['CUDA_VISIBLE_DEVICES'] = '0'  # Use GPU 1\n",
    "    device = 'cuda:0'\n",
    "    print('Using gpu')\n",
    "else:\n",
    "    device = 'cpu'\n",
    "    print('Using cpu.')"
   ]
  },
  {
   "cell_type": "code",
   "execution_count": 3,
   "metadata": {},
   "outputs": [],
   "source": [
    "model_config = {\n",
    "    '_target_': ClassConditionalUnet,\n",
    "    'num_class_per_label': [2,2],\n",
    "    'sample_size': 16,\n",
    "    'in_channels': 16,\n",
    "    'out_channels': 16, \n",
    "    'center_input_sample': False,\n",
    "    'time_embedding_type': 'positional'\n",
    "}\n",
    "scheduler_config = {\n",
    "    '_target_': DDPMScheduler,\n",
    "    'num_train_timesteps': 1000,\n",
    "    'clip_sample': True,\n",
    "    'prediction_type': 'epsilon',\n",
    "    'beta_schedule': 'squaredcos_cap_v2',\n",
    "}\n",
    "checkpoints = {\n",
    "    \"vanilla\": \"/research/hal-gaudisac/Diffusion/compositional-generation/checkpoints/celeba/celeba_partial_diffusion.ckpt\",\n",
    "    \"coind\": \"/research/hal-gaudisac/Diffusion/compositional-generation/checkpoints/celeba/celeba_partial_coind.ckpt\",\n",
    "}\n"
   ]
  },
  {
   "cell_type": "code",
   "execution_count": 7,
   "metadata": {},
   "outputs": [
    {
     "name": "stderr",
     "output_type": "stream",
     "text": [
      "/tmp/ipykernel_2267374/970303082.py:6: FutureWarning: You are using `torch.load` with `weights_only=False` (the current default value), which uses the default pickle module implicitly. It is possible to construct malicious pickle data which will execute arbitrary code during unpickling (See https://github.com/pytorch/pytorch/blob/main/SECURITY.md#untrusted-models for more details). In a future release, the default value for `weights_only` will be flipped to `True`. This limits the functions that could be executed during unpickling. Arbitrary objects will no longer be allowed to be loaded via this mode unless they are explicitly allowlisted by the user via `torch.serialization.add_safe_globals`. We recommend you start setting `weights_only=True` for any use case where you don't have full control of the loaded file. Please open an issue on GitHub for any issues related to this experimental feature.\n",
      "  model_state_dict = {k.replace('model.',''): v for k, v in torch.load(checkpoint_path)['state_dict'].items() if k.startswith('model.')}\n"
     ]
    }
   ],
   "source": [
    "model = hydra.utils.instantiate(model_config).to(device)\n",
    "scheduler = hydra.utils.instantiate(scheduler_config)\n",
    "\n",
    "#load model\n",
    "checkpoint_path = checkpoints['coind']\n",
    "model_state_dict = {k.replace('model.',''): v for k, v in torch.load(checkpoint_path)['state_dict'].items() if k.startswith('model.')}\n",
    "model.load_state_dict(model_state_dict, strict=False)\n",
    "\n",
    "#load vae\n",
    "vae = AutoencoderKL.from_pretrained('black-forest-labs/FLUX.1-schnell', subfolder='vae', cache_dir='../checkpoints')\n",
    "vae = vae.to(device)"
   ]
  },
  {
   "cell_type": "code",
   "execution_count": 8,
   "metadata": {},
   "outputs": [],
   "source": [
    "class ModelWrapper(UNet2DModel):\n",
    "    def __init__(self, model):\n",
    "        super().__init__()\n",
    "        self.model = model\n",
    "    @torch.no_grad()\n",
    "    def forward(self, x, t, y):\n",
    "        raise NotImplementedError\n",
    "    #config should be same as the model\n",
    "    @property\n",
    "    def config(self):\n",
    "        return self.model.config\n",
    "\n",
    "class ANDquery(ModelWrapper):\n",
    "\n",
    "    def forward(self, x, t, y, **kwargs):\n",
    "        # query, guidance_scale, null_token\n",
    "        \n",
    "        if 'null_token' not in kwargs:\n",
    "            raise ValueError('null_token is not provided')    \n",
    "        \n",
    "        null_token = kwargs['null_token']\n",
    "        query = self.prepare_and_query(y,null_token)\n",
    "        B,Q,D = query.size()\n",
    "\n",
    "        if 'guidance_scale' in kwargs:\n",
    "            if isinstance(kwargs['guidance_scale'], float):\n",
    "                guidance_scale = [kwargs['guidance_scale']]*Q\n",
    "            else:\n",
    "                guidance_scale = kwargs['guidance_scale']\n",
    "        else:\n",
    "            guidance_scale = [7.5]*Q\n",
    "\n",
    "        model_in = torch.cat([x]*(Q+1), 0)\n",
    "        query = query.transpose(1, 0).reshape(B*Q, D)\n",
    "        query = torch.cat([null_token, query], 0)\n",
    "        model_output = self.model(model_in, t, query)\n",
    "        chunk_model_output = model_output.chunk(Q+1, dim=0)\n",
    "        model_output = chunk_model_output[0] + sum([guidance_scale[i]*(chunk_model_output[i+1] - chunk_model_output[0]) for i in range(Q)])\n",
    "        return model_output\n",
    "    def prepare_and_query(self,y,null_token):\n",
    "        B,Q = y.size()\n",
    "        query = null_token.repeat(Q,1).to(dtype=y.dtype,device=y.device)\n",
    "        query = query.reshape(B,Q,Q)\n",
    "        for i in range(Q):\n",
    "            query[:,i,i] = y[:,i]\n",
    "        return query\n",
    "\n",
    "class CFGquery(ModelWrapper):\n",
    "\n",
    "    def forward(self, x, t, y, **kwargs):\n",
    "        # query, guidance_scale, null_token\n",
    "        \n",
    "        if 'null_token' not in kwargs:\n",
    "            raise ValueError('null_token is not provided')    \n",
    "        \n",
    "        null_token = kwargs['null_token']\n",
    "\n",
    "        guidance_scale = kwargs.get('guidance_scale', 7.5)\n",
    "\n",
    "        model_in = torch.cat([x]*(2), 0)\n",
    "        query = torch.cat([null_token, y], 0)\n",
    "        model_output = self.model(model_in, t, query)\n",
    "        chunk_model_output = model_output.chunk(2, dim=0)\n",
    "        model_output = chunk_model_output[0] + guidance_scale*(chunk_model_output[1] - chunk_model_output[0])\n",
    "        return model_output\n",
    "\n",
    "model.eval()\n",
    "and_model = ANDquery(model).to(device)\n",
    "cfg_model = CFGquery(model).to(device)\n",
    "pipeline = CondDDIMPipeline(and_model,scheduler=scheduler,vae = vae)"
   ]
  },
  {
   "cell_type": "code",
   "execution_count": 10,
   "metadata": {},
   "outputs": [
    {
     "data": {
      "application/vnd.jupyter.widget-view+json": {
       "model_id": "9ab3c4a182784916834b240a1e9b7f6e",
       "version_major": 2,
       "version_minor": 0
      },
      "text/plain": [
       "Dropdown(description='Gender:', options=('Male', 'Female'), value='Male')"
      ]
     },
     "metadata": {},
     "output_type": "display_data"
    },
    {
     "data": {
      "application/vnd.jupyter.widget-view+json": {
       "model_id": "51a29d36149541558c902e28b8580b59",
       "version_major": 2,
       "version_minor": 0
      },
      "text/plain": [
       "Dropdown(description='Smile:', options=('Smile', 'Non-smile'), value='Smile')"
      ]
     },
     "metadata": {},
     "output_type": "display_data"
    },
    {
     "data": {
      "application/vnd.jupyter.widget-view+json": {
       "model_id": "e865271877a8450f8664954c37a0da6b",
       "version_major": 2,
       "version_minor": 0
      },
      "text/plain": [
       "IntSlider(value=7, description='Gender Control:', max=21, min=1)"
      ]
     },
     "metadata": {},
     "output_type": "display_data"
    },
    {
     "data": {
      "application/vnd.jupyter.widget-view+json": {
       "model_id": "fcf8ea7cc843487991ef17cf2f45144e",
       "version_major": 2,
       "version_minor": 0
      },
      "text/plain": [
       "IntSlider(value=7, description='Smile Control:', max=21, min=1)"
      ]
     },
     "metadata": {},
     "output_type": "display_data"
    },
    {
     "data": {
      "application/vnd.jupyter.widget-view+json": {
       "model_id": "1a576db11f3c4d8e8a5d0206b27c8796",
       "version_major": 2,
       "version_minor": 0
      },
      "text/plain": [
       "Button(description='Run', style=ButtonStyle())"
      ]
     },
     "metadata": {},
     "output_type": "display_data"
    },
    {
     "data": {
      "application/vnd.jupyter.widget-view+json": {
       "model_id": "1b8c75eacb6344f183146aab90789ade",
       "version_major": 2,
       "version_minor": 0
      },
      "text/plain": [
       "Output()"
      ]
     },
     "metadata": {},
     "output_type": "display_data"
    }
   ],
   "source": [
    "import ipywidgets as widgets\n",
    "from IPython.display import display\n",
    "gender_dropdown = widgets.Dropdown(options=[ 'Male','Female'], description='Gender:')\n",
    "smile_dropdown = widgets.Dropdown(options=['Smile', 'Non-smile'], description='Smile:')\n",
    "\n",
    "gender_slider = widgets.IntSlider(description='Gender Control:', min=1, max=21, value=7.0)\n",
    "smile_slider = widgets.IntSlider(description='Smile Control:', min=1, max=21, value=7.0)\n",
    "seed = 42\n",
    "\n",
    "\n",
    "#number of images\n",
    "\n",
    "button = widgets.Button(description=\"Run\")\n",
    "output = widgets.Output()\n",
    "\n",
    "display(gender_dropdown, smile_dropdown,gender_slider,smile_slider,button, output)#\n",
    "\n",
    "def on_button_click(b):\n",
    "    with output:\n",
    "        output.clear_output()\n",
    "        num_of_images = 36\n",
    "        gender = int(gender_dropdown.value == 'Male')\n",
    "        smile = int(smile_dropdown.value ==\"Smile\")\n",
    "        query =  2*torch.tensor([[gender, smile]]*num_of_images).to(device) -1.0\n",
    "        guidance_scale = [gender_slider.value,smile_slider.value]\n",
    "        null_token = torch.zeros_like(query).to(device)\n",
    "        num_inference_steps = 100\n",
    "        set_seed(int(seed))\n",
    "        generated_images = pipeline(batch_size=query.size(0), \n",
    "                        num_inference_steps= num_inference_steps,\n",
    "                        return_dict= True,\n",
    "                        use_clipped_model_output = True,\n",
    "                        query = query,\n",
    "                        guidance_scale=guidance_scale,\n",
    "                        null_token=null_token)[0]\n",
    "        generated_images = generated_images.cpu().detach()* 0.5 + 0.5 #unnormalize\n",
    "        fig,axis = plt.subplots(1,1,figsize=(10,10))\n",
    "        axis.imshow(make_grid(generated_images))\n",
    "        plt.show()\n",
    "\n",
    "        \n",
    "button.on_click(on_button_click)"
   ]
  },
  {
   "cell_type": "code",
   "execution_count": null,
   "metadata": {},
   "outputs": [],
   "source": []
  }
 ],
 "metadata": {
  "kernelspec": {
   "display_name": "compositional-generation",
   "language": "python",
   "name": "python3"
  },
  "language_info": {
   "codemirror_mode": {
    "name": "ipython",
    "version": 3
   },
   "file_extension": ".py",
   "mimetype": "text/x-python",
   "name": "python",
   "nbconvert_exporter": "python",
   "pygments_lexer": "ipython3",
   "version": "3.12.8"
  }
 },
 "nbformat": 4,
 "nbformat_minor": 2
}
