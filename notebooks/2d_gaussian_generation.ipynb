{
 "cells": [
  {
   "cell_type": "markdown",
   "metadata": {},
   "source": [
    "### Walk through of CoInD using a 2D gaussian example"
   ]
  },
  {
   "cell_type": "code",
   "execution_count": 1,
   "metadata": {},
   "outputs": [
    {
     "name": "stderr",
     "output_type": "stream",
     "text": [
      "/research/hal-gaudisac/miniconda3/envs/compositional-generation/lib/python3.12/site-packages/tqdm/auto.py:21: TqdmWarning: IProgress not found. Please update jupyter and ipywidgets. See https://ipywidgets.readthedocs.io/en/stable/user_install.html\n",
      "  from .autonotebook import tqdm as notebook_tqdm\n"
     ]
    },
    {
     "name": "stdout",
     "output_type": "stream",
     "text": [
      "Using gpu\n"
     ]
    }
   ],
   "source": [
    "import sys\n",
    "import os\n",
    "parent_dir = os.path.dirname(os.path.abspath(''))\n",
    "sys.path.append(parent_dir)\n",
    "\n",
    "import torch\n",
    "import pytorch_lightning as pl\n",
    "from torch import nn, Tensor\n",
    "from torch.utils.data import DataLoader, Dataset\n",
    "\n",
    "import matplotlib.pyplot as plt\n",
    "from matplotlib import cm\n",
    "from typing import Optional\n",
    "import functools\n",
    "from diffusers import DDPMScheduler\n",
    "import seaborn as sns\n",
    "\n",
    "torch.manual_seed(42)\n",
    "if torch.cuda.is_available():\n",
    "    os.environ['CUDA_VISIBLE_DEVICES'] = '2'  # Use GPU 1\n",
    "    device = 'cuda:0'\n",
    "    print('Using gpu')\n",
    "else:\n",
    "    device = 'cpu'\n",
    "    print('Using cpu.')\n"
   ]
  },
  {
   "cell_type": "markdown",
   "metadata": {},
   "source": [
    "### Gaussian Dataset"
   ]
  },
  {
   "cell_type": "code",
   "execution_count": 2,
   "metadata": {},
   "outputs": [
    {
     "data": {
      "text/plain": [
       "<Axes: xlabel='None', ylabel='None'>"
      ]
     },
     "execution_count": 2,
     "metadata": {},
     "output_type": "execute_result"
    },
    {
     "data": {
      "image/png": "[encoded data removed]",
      "text/plain": [
       "<Figure size 640x480 with 1 Axes>"
      ]
     },
     "metadata": {},
     "output_type": "display_data"
    }
   ],
   "source": [
    "class IndpGaussianDataset(Dataset):\n",
    "    def __init__(self,data_size:int =200,mode: str = 'train'):\n",
    "        self.data,self.y = self.inf_train_gen(data_size,mode)\n",
    "    def inf_train_gen(self,batch_size,mode):\n",
    "        #normal at (-1,-1), (-1,1), (1,-1), (1,1)\n",
    "        if mode == 'train':\n",
    "            xy = torch.tensor([(-1,-1), (-1,1), (1,-1)])\n",
    "        else:\n",
    "            xy = torch.tensor([(-1,-1), (-1,1), (1,-1), (1,1)])\n",
    "        y = torch.randint(len(xy), (batch_size,))\n",
    "        data = xy[y] + torch.randn(batch_size, 2)*0.1\n",
    "        y = (xy[y]/2+1.5).to(torch.long)\n",
    "        return data.float(),y\n",
    "    def __len__(self):\n",
    "        return len(self.data)\n",
    "    def __getitem__(self, idx):  \n",
    "        return {\n",
    "                'X': self.data[idx],\n",
    "                'label': self.y[idx],\n",
    "                'label_null': torch.zeros_like(self.y[idx])\n",
    "            }\n",
    "#plot dataset\n",
    "def density_plot(samples):\n",
    "    return sns.kdeplot(x=samples[:,0], y=samples[:,1], cmap=\"Reds\", fill=True, thresh=0, bw_adjust=0.5)\n",
    "\n",
    "\n",
    "dataset = IndpGaussianDataset(4096)\n",
    "#plot dataset\n",
    "density_plot(dataset.data)"
   ]
  },
  {
   "cell_type": "markdown",
   "metadata": {},
   "source": [
    "### Train Diffusion model with Conditional Independence"
   ]
  },
  {
   "cell_type": "code",
   "execution_count": 3,
   "metadata": {},
   "outputs": [],
   "source": [
    "class MLP(nn.Module):\n",
    "    def __init__(self, input_dim: int = 2, time_dim: int = 1,y_dims:list[int]=[], hidden_dim: int = 128):\n",
    "        super().__init__()\n",
    "        \n",
    "        self.input_dim = input_dim\n",
    "        self.time_dim = time_dim\n",
    "        self.hidden_dim = hidden_dim\n",
    "        self.embedding = nn.ModuleList([nn.Embedding(y_dims[i], input_dim,dtype=torch.float32) for i in range(len(y_dims))])\n",
    "        self.y_dim = len(y_dims)*input_dim\n",
    "        self.main = nn.Sequential(\n",
    "            nn.Linear(input_dim+time_dim+self.y_dim, hidden_dim),\n",
    "            nn.GELU(),\n",
    "            nn.Linear(hidden_dim, hidden_dim),\n",
    "            nn.GELU(),\n",
    "            nn.Linear(hidden_dim, hidden_dim),\n",
    "            nn.GELU(),\n",
    "            nn.Linear(hidden_dim, hidden_dim),\n",
    "            nn.GELU(),\n",
    "            nn.Linear(hidden_dim, input_dim),\n",
    "            )\n",
    "\n",
    "    def forward(self, x: Tensor, t: Tensor,y:Optional[Tensor]=None) -> Tensor:\n",
    "        sz = x.size()\n",
    "        x = x.reshape(-1, self.input_dim)\n",
    "        t = t.reshape(-1, self.time_dim).float()\n",
    "        t = t.reshape(-1, 1).expand(x.shape[0], 1)\n",
    "        if y is not None:\n",
    "            y = torch.cat([self.embedding[i](y[:,i]) for i in range(y.shape[1])], dim=1)\n",
    "            h = torch.cat([x, t, y], dim=1)\n",
    "        else:\n",
    "            h = torch.cat([x, t], dim=1)\n",
    "        output = self.main(h)\n",
    "        \n",
    "        return output.reshape(*sz)\n"
   ]
  },
  {
   "cell_type": "code",
   "execution_count": 4,
   "metadata": {},
   "outputs": [],
   "source": [
    "def prepare_labels(y,y_null):\n",
    "    # prepare labels for diffusion and conditional independence.\n",
    "    p_null = 0.2\n",
    "    y_diffusion_obj = torch.where(torch.rand(y.size(0),1,device=y.device) < p_null , y_null, y)\n",
    "    y_10,y_01,y_11,y_00 = y.clone(),y.clone(),y.clone(), y_null.clone()\n",
    "    y_10[:,1], y_01[:,0] = y_null[:,1], y_null[:,0]\n",
    "    y_coind_obj = torch.cat([y_10,y_01,y_11,y_00],dim=0)\n",
    "    return y_diffusion_obj,y_coind_obj\n",
    "\n",
    "\n",
    "def train_step(batch,model,noise_scheduler,lambda_coind):\n",
    "    #diffusion model training with conditional independence\n",
    "    x0,y,y_null = batch['X'].to(device),batch['label'].to(device),batch['label_null'].to(device)\n",
    "    y_diffusion_obj,y_coind_obj = prepare_labels(y,y_null)\n",
    "    noise = torch.randn_like(x0)\n",
    "    batch_size, num_cols = y.size()\n",
    "    timesteps = torch.randint(0, noise_scheduler.num_train_timesteps,\n",
    "                                (batch_size,),device=device).long()\n",
    "    xt = noise_scheduler.add_noise(x0, noise, timesteps)\n",
    "    noise_pred = model(xt, timesteps,y_diffusion_obj)\n",
    "    l_diffusion  = F.mse_loss(noise_pred, noise)\n",
    "    xt = xt.repeat(4,1,1,1)\n",
    "    timesteps = timesteps.repeat(4)\n",
    "    if lambda_coind > 0.0:    \n",
    "        noise_pred_new = model(xt, timesteps,y_coind_obj).chunk(4,dim=0)\n",
    "        l_coind = F.mse_loss(noise_pred_new[0]+noise_pred_new[1], noise_pred_new[2]+noise_pred_new[3])\n",
    "        l = l_diffusion + lambda_coind*l_coind\n",
    "    return l"
   ]
  },
  {
   "cell_type": "code",
   "execution_count": 5,
   "metadata": {},
   "outputs": [
    {
     "name": "stderr",
     "output_type": "stream",
     "text": [
      "/research/hal-gaudisac/miniconda3/envs/compositional-generation/lib/python3.12/site-packages/diffusers/configuration_utils.py:140: FutureWarning: Accessing config attribute `num_train_timesteps` directly via 'DDPMScheduler' object attribute is deprecated. Please access 'num_train_timesteps' over 'DDPMScheduler's config object instead, e.g. 'scheduler.config.num_train_timesteps'.\n",
      "  deprecate(\"direct config name access\", \"1.0.0\", deprecation_message, standard_warn=False)\n"
     ]
    },
    {
     "name": "stdout",
     "output_type": "stream",
     "text": [
      "Step 0, Loss: 1.4940813779830933\n",
      "Step 1000, Loss: 0.2927606403827667\n",
      "Step 2000, Loss: 0.061665523797273636\n",
      "Step 3000, Loss: 0.06058447062969208\n",
      "Step 4000, Loss: 0.0701313391327858\n",
      "Step 5000, Loss: 0.06540770083665848\n"
     ]
    }
   ],
   "source": [
    "import torch\n",
    "import torch.nn.functional as F\n",
    "import numpy as np\n",
    "\n",
    "lr = 3e-4\n",
    "data_size = 4096\n",
    "iterations = 5001\n",
    "hidden_dim = 512\n",
    "lambda_coind = 1.0\n",
    "print_every = 1000\n",
    "\n",
    "noise_scheduler = DDPMScheduler(num_train_timesteps=1000, prediction_type=\"epsilon\", beta_schedule=\"linear\")\n",
    "epsilon_network = MLP(input_dim=2, time_dim=1,y_dims=[3,3], hidden_dim=hidden_dim).to(device)\n",
    "optimizer = torch.optim.AdamW(epsilon_network.parameters(), lr=lr)\n",
    "scheduler = torch.optim.lr_scheduler.CosineAnnealingLR(optimizer, T_max=iterations)\n",
    "train_dataloader = DataLoader(dataset, batch_size=data_size, shuffle=True)\n",
    "\n",
    "for i in range(iterations):\n",
    "    for batch in train_dataloader:\n",
    "        loss = train_step(batch,epsilon_network,noise_scheduler,lambda_coind)\n",
    "        optimizer.zero_grad()\n",
    "        loss.backward()\n",
    "        optimizer.step()\n",
    "        scheduler.step()\n",
    "    if i % print_every == 0:\n",
    "        print(f\"Step {i}, Loss: {loss.item()}\")"
   ]
  },
  {
   "cell_type": "markdown",
   "metadata": {},
   "source": [
    "#### Sample from trained model"
   ]
  },
  {
   "cell_type": "code",
   "execution_count": 18,
   "metadata": {},
   "outputs": [],
   "source": [
    "class ModelWrapper(nn.Module):\n",
    "    def __init__(self, model):\n",
    "        super().__init__()\n",
    "        self.model = model\n",
    "\n",
    "    def forward(self, x: torch.Tensor, t: torch.Tensor, **extras):\n",
    "        return self.model(x, t, **extras)\n",
    "\n",
    "class ANDGuidance(ModelWrapper):\n",
    "    def forward(self, x: torch.Tensor, t: torch.Tensor, **extras):\n",
    "        y_phi = extras['y_null']\n",
    "        y_10,y_01 = extras['y'].clone(),extras['y'].clone()\n",
    "        y_10[:,1],y_01[:,0] = y_phi[:,1],y_phi[:,0]\n",
    "        w1, w2 = 6.0, 6.0\n",
    "        if 'w' in extras:\n",
    "            w1, w2 = extras['w']\n",
    "        result =(self.model(x, t,y_phi))*(1-w1-w2) + w1*self.model(x, t,y_01) + w2*self.model(x, t,y_10)\n",
    "        return result\n",
    "\n",
    "class ClassifierFreeGuidance(ModelWrapper):\n",
    "    def forward(self, x: torch.Tensor, t: torch.Tensor, **extras):\n",
    "        y,y_phi = extras['y'],extras['y_null'] \n",
    "        w = 6.0\n",
    "        if 'w' in extras:\n",
    "            w = extras['w']\n",
    "        result =(self.model(x, t,y_phi))*(1-w) + w*self.model(x, t,y)\n",
    "        return result\n",
    "\n",
    "epsilon_network.eval()\n",
    "epsilon_network.to(device)\n",
    "and_model = ANDGuidance(epsilon_network)\n",
    "cfg_model = ClassifierFreeGuidance(epsilon_network)"
   ]
  },
  {
   "cell_type": "code",
   "execution_count": 21,
   "metadata": {},
   "outputs": [],
   "source": [
    "@torch.no_grad()\n",
    "def sample(model, num_samples,y,y_null,w):\n",
    "    x = torch.randn(num_samples, 2, device=device)\n",
    "    extras = {'y':y,'y_null':y_null,'w':w}\n",
    "    for i in range(1000):\n",
    "        t = torch.tensor([999 - i], device=device)\n",
    "        noise_pred = model(x, t, **extras)\n",
    "        x = noise_scheduler.step(noise_pred, t, x).prev_sample\n",
    "    return x\n",
    "w = 5.0\n",
    "    \n",
    "y = torch.randint(1,3, (1000,2)).to(device)\n",
    "y_null = torch.tensor([[0,0]]).repeat(1000,1).to(device)\n",
    "samples = sample(cfg_model, 1000,y,y_null,w)\n",
    "density_plot(samples.cpu().detach().numpy())"
   ]
  },
  {
   "cell_type": "code",
   "execution_count": 22,
   "metadata": {},
   "outputs": [],
   "source": [
    "class LinearClassifier(nn.Module):\n",
    "    def __init__(self, input_dim: int = 2, output_dim: int = 2):\n",
    "        super().__init__()\n",
    "        self.linear = nn.Linear(input_dim, output_dim)\n",
    "    def forward(self, x: Tensor) -> Tensor:\n",
    "        return self.linear(x)\n",
    "\n",
    "epochs = 10000\n",
    "classifier = LinearClassifier().to(device)\n",
    "criterion = nn.CrossEntropyLoss().to(device)\n",
    "optimizer = torch.optim.AdamW(classifier.parameters(), lr=0.001)\n",
    "scheduler = torch.optim.lr_scheduler.CosineAnnealingLR(optimizer, T_max=epochs)\n",
    "classifier.train()\n",
    "for i in range(epochs):\n",
    "    optimizer.zero_grad()\n",
    "    logits = classifier(samples)\n",
    "    loss = criterion(logits, y[:,0]-1)\n",
    "    loss.backward()\n",
    "    optimizer.step()\n",
    "    scheduler.step()\n",
    "def plot_classifier(model):\n",
    "    x = torch.linspace(-1.5, 1.5, 100)\n",
    "    y = torch.linspace(-1.5, 1.5, 100)\n",
    "    X, Y = torch.meshgrid(x, y)\n",
    "    Z = torch.zeros_like(X)\n",
    "    for i in range(X.size(0)):\n",
    "        for j in range(X.size(1)):\n",
    "            z = torch.tensor([X[i,j], Y[i,j]]).to(device)\n",
    "            with torch.no_grad():\n",
    "                logits = model(z)\n",
    "            Z[i,j] = logits.argmax().item()\n",
    "    plt.contourf(X.numpy(), Y.numpy(), Z.numpy(), alpha=0.5)\n",
    "    plt.colorbar()\n",
    "    plt.show()\n",
    "\n",
    "\n",
    "plot_classifier(classifier)"
   ]
  },
  {
   "cell_type": "code",
   "execution_count": 23,
   "metadata": {},
   "outputs": [
    {
     "data": {
      "image/png": "[encoded data removed]",
      "text/plain": [
       "<Figure size 640x480 with 2 Axes>"
      ]
     },
     "metadata": {},
     "output_type": "display_data"
    }
   ],
   "source": []
  },
  {
   "cell_type": "code",
   "execution_count": null,
   "metadata": {},
   "outputs": [],
   "source": []
  }
 ],
 "metadata": {
  "kernelspec": {
   "display_name": "compositional-generation",
   "language": "python",
   "name": "python3"
  },
  "language_info": {
   "codemirror_mode": {
    "name": "ipython",
    "version": 3
   },
   "file_extension": ".py",
   "mimetype": "text/x-python",
   "name": "python",
   "nbconvert_exporter": "python",
   "pygments_lexer": "ipython3",
   "version": "3.12.8"
  }
 },
 "nbformat": 4,
 "nbformat_minor": 2
}
